{
 "cells": [
  {
   "cell_type": "markdown",
   "metadata": {},
   "source": [
    "## Initializing\n"
   ]
  },
  {
   "cell_type": "code",
   "execution_count": 1,
   "metadata": {},
   "outputs": [],
   "source": [
    "from pyspark import SparkConf, SparkContext\n",
    "\n",
    "spark_conf = SparkConf()\\\n",
    "        .setAppName(\"Assignment 1\")\n",
    "sc=SparkContext.getOrCreate(spark_conf) \n",
    "\n",
    "input_file='AllVideos.csv'\n",
    "\n",
    "videoData = sc.textFile('AllVideos.csv')\n"
   ]
  },
  {
   "cell_type": "markdown",
   "metadata": {},
   "source": [
    "## 3.1 Controversial Trending Videos Identification"
   ]
  },
  {
   "cell_type": "code",
   "execution_count": 21,
   "metadata": {
    "scrolled": false
   },
   "outputs": [
    {
     "data": {
      "text/plain": [
       "[('QwZT7T-TXT0', 579119, 'GB'),\n",
       " ('QwZT7T-TXT0', 478100, 'US'),\n",
       " ('BEePFpC9qG8', 365862, 'DE'),\n",
       " ('RmZ3DPJQo2k', 334390, 'KR'),\n",
       " ('q8v9MvManKE', 299044, 'IN'),\n",
       " ('pOHQdIDds6s', 160365, 'CA'),\n",
       " ('ZGEoqPpJQLE', 151913, 'RU'),\n",
       " ('84LBjXaeKk4', 134836, 'FR'),\n",
       " ('84LBjXaeKk4', 134834, 'DE'),\n",
       " ('84LBjXaeKk4', 121240, 'RU')]"
      ]
     },
     "execution_count": 21,
     "metadata": {},
     "output_type": "execute_result"
    }
   ],
   "source": [
    "def extractData(record):\n",
    "    try:\n",
    "        videoId, date, category, views, likes, dislikes, country = record.split(\",\")\n",
    "        likes = int(likes)\n",
    "        dislikes= int (dislikes)\n",
    "        dateList = date.split(\".\")\n",
    "        dateList[1], dateList[2] = dateList[2],dateList[1]\n",
    "\n",
    "        dateString= \".\".join(dateList)\n",
    "\n",
    "        return((videoId, country), (dateString, likes, dislikes))\n",
    "    except:\n",
    "        return ()\n",
    "\n",
    "        \n",
    "\n",
    "def dislikeRate(value):\n",
    "    vlist = list(value)\n",
    "    listLength = len(vlist)\n",
    "    if(listLength<2):\n",
    "        return \"\"\n",
    "    else:  \n",
    "        return (vlist[listLength-1][2] - vlist[0][2]) - (vlist[listLength-1][1] - vlist[0][1])\n",
    "        \n",
    "\n",
    "\n",
    "videoData.map(extractData).sortBy(lambda row: row[1][0], ascending=True).groupByKey().mapValues(dislikeRate) \\\n",
    ".filter(lambda row :isinstance(row[1], int)) \\\n",
    ".sortBy(lambda row: row[1], ascending=False) \\\n",
    ".map(lambda row: (row[0][0], row[1], row[0][1])).take(10)\n",
    "\n",
    "\n",
    "\n"
   ]
  },
  {
   "cell_type": "markdown",
   "metadata": {},
   "source": [
    "## 3.2 Category and Trending Correlation"
   ]
  },
  {
   "cell_type": "code",
   "execution_count": 23,
   "metadata": {},
   "outputs": [
    {
     "data": {
      "text/plain": [
       "[('Trailers', 1.0),\n",
       " ('Autos & Vehicles', 1.0190448285965426),\n",
       " ('News & Politics', 1.052844979051223),\n",
       " ('Nonprofits & Activism', 1.057344064386318),\n",
       " ('Education', 1.0628976994615762),\n",
       " ('People & Blogs', 1.0640343760329336),\n",
       " ('Pets & Animals', 1.0707850707850708),\n",
       " ('Howto & Style', 1.0876256925918326),\n",
       " ('Travel & Events', 1.0929411764705883),\n",
       " ('Gaming', 1.0946163477016635),\n",
       " ('Sports', 1.1422245184146431),\n",
       " ('Entertainment', 1.1447534885477444),\n",
       " ('Science & Technology', 1.1626835588828102),\n",
       " ('Film & Animation', 1.1677314564158094),\n",
       " ('Comedy', 1.2144120659156503),\n",
       " ('Movies', 1.25),\n",
       " ('Music', 1.310898044427568),\n",
       " ('Shows', 1.614678899082569)]"
      ]
     },
     "execution_count": 23,
     "metadata": {},
     "output_type": "execute_result"
    }
   ],
   "source": [
    "def extractCountry(record):\n",
    "    try:\n",
    "        videoId, date, category, views, likes, dislikes, country = record.split(\",\")\n",
    "        return(videoId,country )\n",
    "    except:\n",
    "        return ()\n",
    "    \n",
    "def extractCategory(record):\n",
    "    try:\n",
    "        videoId, date, category, views, likes, dislikes, country = record.split(\",\")\n",
    "        return(videoId, category)\n",
    "    except:\n",
    "        return ()\n",
    "    \n",
    "def avg(values):\n",
    "    vlist = list(values)\n",
    "    return sum(vlist)/len(vlist)\n",
    "\n",
    "videoCatogory= videoData.map(extractCategory).distinct()\n",
    "\n",
    "videoCountry = videoData.map(extractCountry).distinct().groupByKey().mapValues(len)\n",
    "\n",
    "videoCatogory.join(videoCountry).values().groupByKey() \\\n",
    ".mapValues(avg).sortBy(lambda row:row[1],ascending=True).collect()"
   ]
  },
  {
   "cell_type": "code",
   "execution_count": null,
   "metadata": {},
   "outputs": [],
   "source": []
  }
 ],
 "metadata": {
  "kernelspec": {
   "display_name": "Python 3",
   "language": "python",
   "name": "python3"
  },
  "language_info": {
   "codemirror_mode": {
    "name": "ipython",
    "version": 3
   },
   "file_extension": ".py",
   "mimetype": "text/x-python",
   "name": "python",
   "nbconvert_exporter": "python",
   "pygments_lexer": "ipython3",
   "version": "3.8.8"
  }
 },
 "nbformat": 4,
 "nbformat_minor": 4
}
